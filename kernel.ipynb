{
  "cells": [
    {
      "metadata": {
        "_uuid": "8f2839f25d086af736a60e9eeb907d3b93b6e0e5",
        "_cell_guid": "b1076dfc-b9ad-4769-8c92-a6c4dae69d19",
        "trusted": true
      },
      "cell_type": "code",
      "source": "# This Python 3 environment comes with many helpful analytics libraries installed\n# It is defined by the kaggle/python docker image: https://github.com/kaggle/docker-python\n# For example, here's several helpful packages to load in \n\nimport numpy as np # linear algebra\nimport pandas as pd # data processing, CSV file I/O (e.g. pd.read_csv)\n\n# Input data files are available in the \"../input/\" directory.\n# For example, running this (by clicking run or pressing Shift+Enter) will list the files in the input directory\n\nimport os\nimport time\n%matplotlib inline\nimport matplotlib.pyplot as plt\nfrom progressbar import ProgressBar\nimport math\nimport itertools\nfrom tqdm import tqdm\n# Any results you write to the current directory are saved as output.",
      "execution_count": null,
      "outputs": []
    },
    {
      "metadata": {
        "trusted": true,
        "_uuid": "ec5c0242a0d9165e8ca43be910542ff0900cf52a"
      },
      "cell_type": "code",
      "source": "os.listdir('../input')",
      "execution_count": null,
      "outputs": []
    },
    {
      "metadata": {
        "trusted": true,
        "_uuid": "40808875bf0f8dafd1a34878c577eb4cc999aa26",
        "scrolled": true
      },
      "cell_type": "code",
      "source": "output = pd.read_csv('../input/pathdata/submission.csv')\ndata = pd.read_csv('../input/traveling-santa-2018-prime-paths/cities.csv', index_col='CityId')",
      "execution_count": null,
      "outputs": []
    },
    {
      "metadata": {
        "trusted": true,
        "_uuid": "5de0691862a8e814a11a5b851afe3d87a7acac96"
      },
      "cell_type": "code",
      "source": "data['xplusy'] = data['X'] + data['Y']",
      "execution_count": null,
      "outputs": []
    },
    {
      "metadata": {
        "trusted": true,
        "_uuid": "4c6425daa8a2754d6d712ad4243e390652367b77"
      },
      "cell_type": "code",
      "source": "def is_prime(n):\n    if n == 1:\n        return False\n    i = 2\n    while i*i <= n:\n        if n % i == 0:\n            return False\n        i += 1\n    return True",
      "execution_count": null,
      "outputs": []
    },
    {
      "metadata": {
        "trusted": true,
        "_uuid": "2fbae2d623b42a96da39e869fe1999461fb45c3d"
      },
      "cell_type": "code",
      "source": "def getstep(window_size, idx):\n    indices = [i+idx for i in range(window_size)]\n    step = 10 - idx%10\n    return step",
      "execution_count": null,
      "outputs": []
    },
    {
      "metadata": {
        "trusted": true,
        "_uuid": "e1ecc8d2bad644b84316b89b46a7589fce21ab73"
      },
      "cell_type": "code",
      "source": "def getFastDistance(ids, window_size, idx):\n    data_dict = {i:data['xplusy'].loc[i] for i in range(window_size)}\n    f = lambda i: data_dict[i]\n    non_prime_distance = 1.04880884817 ## sqrt(1.1)\n    mat1 = np.vectorize(f)(ids)\n    mat2 = mat1[:,1:]\n    mat1 = mat1[:,:-1]\n    #distance = np.linalg.norm(vector1.values - vector2.values, axis=1)\n    distance = abs(mat1 - mat2)\n    primeStep = getstep(window_size, idx)\n    if primeStep !=0 and primeStep < window_size and is_prime(ids[primeStep]):\n        f1 = lambda i: int(is_prime(i))\n        prime_col = np.vectorize(f1)(ids[:,primeStep])\n        distance[:,primeStep-1] = distance[:,primeStep-1] + prime_col*distance[:,primeStep-1]*non_prime_distance\n#         distance[primeStep-1] *= 1.1\n    distance = np.sum(distance)\n    return distance",
      "execution_count": null,
      "outputs": []
    },
    {
      "metadata": {
        "trusted": true,
        "_uuid": "44ce8b926ee8f412c9785505187493b769adf6c0"
      },
      "cell_type": "code",
      "source": "def getCityIdsPermutation(per, ids, window_size, idx):\n    #global distance_measure_time\n    new_ids = []\n    #ids = {k:v for i in ids}\n    f = lambda i: ids[i]\n    new_ids = np.vectorize(f)(per)\n#     for i in p:\n#         new_ids.append(ids[i])\n    #start = time.time()\n    distance = getFastDistance(new_ids, window_size, idx)\n    #distance_measure_time += time.time() - start\n    return new_ids, distance",
      "execution_count": null,
      "outputs": []
    },
    {
      "metadata": {
        "trusted": true,
        "_uuid": "2decc0a22fea23d831a70110143f7c2f15aaf85a"
      },
      "cell_type": "code",
      "source": "def arrangeCityIds(ids, window_size, idx):\n    arrangeIds = []\n    listCombination = []\n    window = list(range(window_size))\n    if len(ids) == window_size:\n        #start = time.time()\n        lastIndex = window_size - 1\n        per = np.insert(list(itertools.permutations(window[1:-1]))), 0, values=0, axis=1)\n        per = np.insert(per, lastIndex ,lastIndex, axis=1)\n        #permutations = [[0]+list(i)+[window_size-1] for i in list(itertools.permutations(window[1:-1]))]\n        new_ids, distance = getCityIdsPermutation(per, ids, window_size, idx)\n        \n        ##TODO\n        for p in permutations:\n            new_ids, distance = getCityIdsPermutation(p, ids, window_size, idx)\n            listCombination.append((new_ids, distance))\n        listCombination = sorted(listCombination,key=lambda d: d[1])\n        #print('getCityIdsPermutation: ', time.time() - start)\n        #print('DistanceMeasureTime: ', distance_measure_time)\n        return listCombination[0][0]\n    return ids",
      "execution_count": null,
      "outputs": []
    },
    {
      "metadata": {
        "trusted": true,
        "_uuid": "a370887146e0e0ad331e92dc8b3d03b3630d04da"
      },
      "cell_type": "code",
      "source": "def primeArrange():\n    data_len = len(new_output)\n    i = 0\n    window_size = 7\n    #lower_index = int(window_size/2)\n    end_index = data_len - window_size\n    for id in tqdm(new_output):\n        #if (i+1)%10 == 0 and i+2 < data_len:\n        if i <= end_index:\n            ids = new_output[i:i+window_size]\n            #isPrime, primeIdx = oneSidePrimeCheck(ids)\n            #start = time.time()\n            new_output[i:i+window_size] = arrangeCityIds(ids, window_size, i)\n            #print('arrangeCityIds: ', time.time() - start)\n        i += 1",
      "execution_count": null,
      "outputs": []
    },
    {
      "metadata": {
        "trusted": true,
        "_uuid": "dc22573406568a57832eb4f1e783269dfc490a60"
      },
      "cell_type": "code",
      "source": "new_output = [i[0] for i in output.values]\nversion = 1\nwhile True:\n    previous_output = new_output\n    primeArrange()\n    pd.DataFrame({'Path': new_output}).to_csv('submission_ver_'+str(version)+'.csv', index=False)\n    count = 0\n    for i, cityId in enumerate(new_output):\n        if cityId != previous_output[i]:\n            count += 1\n    if count == 0:\n        break",
      "execution_count": null,
      "outputs": []
    },
    {
      "metadata": {
        "trusted": true,
        "_uuid": "f06113aa4afa7ae0f6b66b27981e4038c6628a50"
      },
      "cell_type": "code",
      "source": "list(itertools.permutations([1,2,3]))",
      "execution_count": null,
      "outputs": []
    },
    {
      "metadata": {
        "trusted": true,
        "_uuid": "b7e13b89e543eccd619ccccc1216493dcf1a54a4"
      },
      "cell_type": "code",
      "source": "c = list(itertools.permutations([1,2,3]))",
      "execution_count": null,
      "outputs": []
    },
    {
      "metadata": {
        "trusted": true,
        "_uuid": "62d021db32620c53c8ed04364fb053be5daecdc6"
      },
      "cell_type": "code",
      "source": "d = np.insert(c, 0, values=0, axis=1)\nd\n#np.insert(c, 4, values=5, axis=1)",
      "execution_count": null,
      "outputs": []
    },
    {
      "metadata": {
        "trusted": true,
        "_uuid": "8cc92ad5d7a4034da6aa8dc6d25909f7c4a73a8b"
      },
      "cell_type": "code",
      "source": "i = {i:data[].loc[i] for i in range(5)}",
      "execution_count": null,
      "outputs": []
    },
    {
      "metadata": {
        "trusted": true,
        "_uuid": "d2d5bad97ffcbc873749f17b879e995ce23dfbfb"
      },
      "cell_type": "code",
      "source": "f = lambda x:i[x]",
      "execution_count": null,
      "outputs": []
    },
    {
      "metadata": {
        "trusted": true,
        "_uuid": "cc27289713a3f017d7998d01a1630b6bc7d67e06"
      },
      "cell_type": "code",
      "source": "np.vectorize(f)(d)",
      "execution_count": null,
      "outputs": []
    },
    {
      "metadata": {
        "trusted": true,
        "_uuid": "dfa1ad500d9e11452bfec870232b56993c016f0a"
      },
      "cell_type": "code",
      "source": "i",
      "execution_count": null,
      "outputs": []
    },
    {
      "metadata": {
        "trusted": true,
        "_uuid": "b8f3330166f63edaeb22ef177f495650470cf504"
      },
      "cell_type": "code",
      "source": "d",
      "execution_count": null,
      "outputs": []
    },
    {
      "metadata": {
        "trusted": true,
        "_uuid": "b395521598e89124ce285754a3751d73e7b82536"
      },
      "cell_type": "code",
      "source": "d[:,1:]",
      "execution_count": null,
      "outputs": []
    },
    {
      "metadata": {
        "trusted": true,
        "_uuid": "5a566aec71500d188131d6d6f9b2f40c13724c65"
      },
      "cell_type": "code",
      "source": "d[:,:-1]",
      "execution_count": null,
      "outputs": []
    },
    {
      "metadata": {
        "trusted": true,
        "_uuid": "daee38cab8fd87ef148926ab623ddadc373b2f09"
      },
      "cell_type": "code",
      "source": "d",
      "execution_count": null,
      "outputs": []
    },
    {
      "metadata": {
        "trusted": true,
        "_uuid": "c82684d7c70baeecf96486d11a1b0dfff7a66d25"
      },
      "cell_type": "code",
      "source": "d[:,2] = d[:,2]*(np.ones(shape=6)*2)",
      "execution_count": null,
      "outputs": []
    },
    {
      "metadata": {
        "trusted": true,
        "_uuid": "a2586dd7afc2d700b2cf3b73b67c23c5985bd3ef"
      },
      "cell_type": "code",
      "source": "d",
      "execution_count": null,
      "outputs": []
    },
    {
      "metadata": {
        "trusted": true,
        "_uuid": "5c10fc880e5ac67a7dcabc82a72dd9c1c73ae952"
      },
      "cell_type": "code",
      "source": "np.ones(shape=5)",
      "execution_count": null,
      "outputs": []
    },
    {
      "metadata": {
        "trusted": true,
        "_uuid": "f1c290c6b80ad603098aa943cc33d5c23e52401a"
      },
      "cell_type": "code",
      "source": "",
      "execution_count": null,
      "outputs": []
    }
  ],
  "metadata": {
    "kernelspec": {
      "display_name": "Python 3",
      "language": "python",
      "name": "python3"
    },
    "language_info": {
      "name": "python",
      "version": "3.6.6",
      "mimetype": "text/x-python",
      "codemirror_mode": {
        "name": "ipython",
        "version": 3
      },
      "pygments_lexer": "ipython3",
      "nbconvert_exporter": "python",
      "file_extension": ".py"
    }
  },
  "nbformat": 4,
  "nbformat_minor": 1
}