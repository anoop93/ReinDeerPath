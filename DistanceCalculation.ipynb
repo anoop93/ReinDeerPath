{
 "cells": [
  {
   "cell_type": "code",
   "execution_count": 94,
   "metadata": {},
   "outputs": [],
   "source": [
    "import numpy as np\n",
    "import pandas as pd\n",
    "from progressbar import ProgressBar\n",
    "import pickle"
   ]
  },
  {
   "cell_type": "code",
   "execution_count": 115,
   "metadata": {},
   "outputs": [],
   "source": [
    "bar = ProgressBar()"
   ]
  },
  {
   "cell_type": "code",
   "execution_count": 96,
   "metadata": {},
   "outputs": [],
   "source": [
    "data = pd.read_csv('data/cities.csv', index_col='CityId')\n",
    "output = pd.read_csv('submission.csv')"
   ]
  },
  {
   "cell_type": "code",
   "execution_count": 97,
   "metadata": {},
   "outputs": [],
   "source": [
    "def is_prime(n):\n",
    "    if n == 1:\n",
    "        return False\n",
    "    i = 2\n",
    "    while i*i <= n:\n",
    "        if n % i == 0:\n",
    "            return False\n",
    "        i += 1\n",
    "    return True"
   ]
  },
  {
   "cell_type": "code",
   "execution_count": 26,
   "metadata": {},
   "outputs": [
    {
     "name": "stderr",
     "output_type": "stream",
     "text": [
      "100% (197770 of 197770) |#################| Elapsed Time: 0:04:55 Time: 0:04:55\n"
     ]
    }
   ],
   "source": [
    "total_distance = 0\n",
    "from_index = None\n",
    "step = 1\n",
    "for i in bar(output.values):\n",
    "    if from_index == None:\n",
    "        from_index = i\n",
    "    else:\n",
    "        to_index = i\n",
    "        distance = np.linalg.norm(np.array(data.loc[from_index]) - np.array(data.loc[to_index]))\n",
    "        \n",
    "        if step%10 == 0 and not is_prime(to_index):\n",
    "            distance = distance * 1.1\n",
    "        total_distance += distance\n",
    "        from_index = to_index\n",
    "    step += 1"
   ]
  },
  {
   "cell_type": "code",
   "execution_count": null,
   "metadata": {},
   "outputs": [],
   "source": [
    "total_distance"
   ]
  },
  {
   "cell_type": "code",
   "execution_count": 27,
   "metadata": {},
   "outputs": [
    {
     "data": {
      "text/plain": [
       "1533482.4819787466"
      ]
     },
     "execution_count": 27,
     "metadata": {},
     "output_type": "execute_result"
    }
   ],
   "source": [
    "total_distance"
   ]
  },
  {
   "cell_type": "code",
   "execution_count": 9,
   "metadata": {},
   "outputs": [
    {
     "data": {
      "text/plain": [
       "1519662.871105265"
      ]
     },
     "execution_count": 9,
     "metadata": {},
     "output_type": "execute_result"
    }
   ],
   "source": [
    "total_distance"
   ]
  },
  {
   "cell_type": "code",
   "execution_count": 66,
   "metadata": {},
   "outputs": [],
   "source": [
    "with open('path.pickle', 'wb') as f:\n",
    "    pickle.dump(output, f)"
   ]
  },
  {
   "cell_type": "code",
   "execution_count": null,
   "metadata": {},
   "outputs": [],
   "source": [
    "with open('path.pickle', 'rb') as f:\n",
    "    output = pickle.load(f)"
   ]
  },
  {
   "cell_type": "code",
   "execution_count": 98,
   "metadata": {},
   "outputs": [],
   "source": [
    "def oneSidePrimeCheck(ids):\n",
    "    if len(ids) == 5:\n",
    "        for i, id in enumerate(ids):\n",
    "            if i not in [0,2,4]:\n",
    "                if is_prime(id):\n",
    "                    return True, i\n",
    "    return False, 0"
   ]
  },
  {
   "cell_type": "code",
   "execution_count": 99,
   "metadata": {},
   "outputs": [],
   "source": [
    "def getNewDistance(ids):\n",
    "    if len(ids) == 5:\n",
    "        total_distance = 0\n",
    "        from_index = None\n",
    "        step = 1\n",
    "        for i in ids:\n",
    "            if from_index == None:\n",
    "                from_index = i\n",
    "            else:\n",
    "                to_index = i\n",
    "                distance = np.linalg.norm(np.array(data.loc[from_index]) - np.array(data.loc[to_index]))\n",
    "\n",
    "                if step == 2 and not is_prime(to_index):\n",
    "                    distance = distance * 1.1\n",
    "                total_distance += distance\n",
    "                from_index = to_index\n",
    "            step += 1\n",
    "        return total_distance\n",
    "    return None"
   ]
  },
  {
   "cell_type": "code",
   "execution_count": 100,
   "metadata": {},
   "outputs": [],
   "source": [
    "def getFirstCombination(ids):\n",
    "    new_ids = [ids[0], ids[1], ids[2], ids[3], ids[4]]\n",
    "    distance = getNewDistance(new_ids)\n",
    "    return new_ids, distance"
   ]
  },
  {
   "cell_type": "code",
   "execution_count": 101,
   "metadata": {},
   "outputs": [],
   "source": [
    "def getSecondCombination(ids):\n",
    "    new_ids = [ids[0], ids[2], ids[1], ids[3], ids[4]]\n",
    "    distance = getNewDistance(new_ids)\n",
    "    return new_ids, distance"
   ]
  },
  {
   "cell_type": "code",
   "execution_count": 102,
   "metadata": {},
   "outputs": [],
   "source": [
    "def getthirdCombination(ids):\n",
    "    new_ids = [ids[0], ids[1], ids[3], ids[2], ids[4]]\n",
    "    distance = getNewDistance(new_ids)\n",
    "    return new_ids, distance"
   ]
  },
  {
   "cell_type": "code",
   "execution_count": 103,
   "metadata": {},
   "outputs": [],
   "source": [
    "def getforthCombination(ids):\n",
    "    new_ids = [ids[0], ids[2], ids[3], ids[1], ids[4]]\n",
    "    distance = getNewDistance(new_ids)\n",
    "    return new_ids, distance"
   ]
  },
  {
   "cell_type": "code",
   "execution_count": 104,
   "metadata": {},
   "outputs": [],
   "source": [
    "def getfifthCombination(ids):\n",
    "    new_ids = [ids[0], ids[3], ids[1], ids[2], ids[4]]\n",
    "    distance = getNewDistance(new_ids)\n",
    "    return new_ids, distance"
   ]
  },
  {
   "cell_type": "code",
   "execution_count": 105,
   "metadata": {},
   "outputs": [],
   "source": [
    "def arrangeCityIds(ids):\n",
    "    arrangeIds = []\n",
    "    listCombination = []\n",
    "    if len(ids) == 5:\n",
    "        firstCombIds, distance1 = getFirstCombination(ids)\n",
    "        secondCombIds, distance2 = getSecondCombination(ids)\n",
    "        thirdCombIds, distance3 = getthirdCombination(ids)\n",
    "        forthCombIds, distance4 = getforthCombination(ids)\n",
    "        fifthCombIds, distance5 = getfifthCombination(ids)\n",
    "        listCombination = [(firstCombIds, distance1), (secondCombIds, distance2), (thirdCombIds, distance3),\n",
    "                          (forthCombIds, distance4), (fifthCombIds, distance5)]\n",
    "        listCombination = sorted(listCombination,key=lambda d: d[1])\n",
    "        return listCombination[0][0]\n",
    "    return ids"
   ]
  },
  {
   "cell_type": "code",
   "execution_count": 106,
   "metadata": {},
   "outputs": [
    {
     "name": "stderr",
     "output_type": "stream",
     "text": [
      "100% (197770 of 197770) |#################| Elapsed Time: 0:00:34 Time: 0:00:34\n"
     ]
    }
   ],
   "source": [
    "new_output = [i[0] for i in output.values]\n",
    "data_len = len(new_output)\n",
    "i = 0\n",
    "for id in bar(new_output):\n",
    "    if (i+1)%10 == 0 and i+2 < data_len:\n",
    "        ids = new_output[i+1-2:i+1+2+1]\n",
    "        isPrime, primeIdx = oneSidePrimeCheck(ids)\n",
    "        if isPrime:\n",
    "            new_output[i+1-2:i+1+2+1] = arrangeCityIds(ids)\n",
    "    i += 1"
   ]
  },
  {
   "cell_type": "code",
   "execution_count": 108,
   "metadata": {},
   "outputs": [
    {
     "name": "stdout",
     "output_type": "stream",
     "text": [
      "83059\n",
      "34361\n",
      "34361\n",
      "83059\n",
      "61511\n",
      "124915\n",
      "124915\n",
      "10303\n",
      "10303\n",
      "61511\n",
      "103485\n",
      "129038\n",
      "129038\n",
      "103485\n",
      "156839\n",
      "182907\n",
      "182907\n",
      "156839\n",
      "109449\n",
      "56249\n",
      "56249\n",
      "27905\n",
      "27905\n",
      "109449\n",
      "171696\n",
      "125110\n",
      "4127\n",
      "171696\n",
      "125110\n",
      "4127\n",
      "155947\n",
      "63485\n",
      "63485\n",
      "155947\n",
      "123438\n",
      "99880\n",
      "99880\n",
      "123438\n",
      "53602\n",
      "115065\n",
      "115065\n",
      "53602\n",
      "75470\n",
      "186282\n",
      "186282\n",
      "75470\n",
      "54065\n",
      "7415\n",
      "7415\n",
      "54065\n"
     ]
    }
   ],
   "source": [
    "oldValues = [j[0] for j in output.values]\n",
    "for i, v in enumerate(new_output):\n",
    "    if v != oldValues[i]:\n",
    "        print(v)\n",
    "        print(oldValues[i])"
   ]
  },
  {
   "cell_type": "code",
   "execution_count": 116,
   "metadata": {},
   "outputs": [
    {
     "name": "stderr",
     "output_type": "stream",
     "text": [
      "100% (197770 of 197770) |#################| Elapsed Time: 0:01:30 Time: 0:01:30\n"
     ]
    }
   ],
   "source": [
    "total_distance = 0\n",
    "from_index = None\n",
    "step = 1\n",
    "for i in bar(new_output):\n",
    "    if from_index == None:\n",
    "        from_index = i\n",
    "    else:\n",
    "        to_index = i\n",
    "        distance = np.linalg.norm(np.array(data.loc[from_index]) - np.array(data.loc[to_index]))\n",
    "        \n",
    "        if step%10 == 0 and not is_prime(to_index):\n",
    "            distance = distance * 1.1\n",
    "        total_distance += distance\n",
    "        from_index = to_index\n",
    "    step += 1"
   ]
  },
  {
   "cell_type": "code",
   "execution_count": 117,
   "metadata": {},
   "outputs": [
    {
     "data": {
      "text/plain": [
       "1533480.34065646"
      ]
     },
     "execution_count": 117,
     "metadata": {},
     "output_type": "execute_result"
    }
   ],
   "source": [
    "total_distance"
   ]
  },
  {
   "cell_type": "code",
   "execution_count": null,
   "metadata": {},
   "outputs": [],
   "source": []
  }
 ],
 "metadata": {
  "kernelspec": {
   "display_name": "Python 3",
   "language": "python",
   "name": "python3"
  },
  "language_info": {
   "codemirror_mode": {
    "name": "ipython",
    "version": 3
   },
   "file_extension": ".py",
   "mimetype": "text/x-python",
   "name": "python",
   "nbconvert_exporter": "python",
   "pygments_lexer": "ipython3",
   "version": "3.6.7"
  }
 },
 "nbformat": 4,
 "nbformat_minor": 2
}
